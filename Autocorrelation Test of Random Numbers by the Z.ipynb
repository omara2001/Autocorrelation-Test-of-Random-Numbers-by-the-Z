{
 "cells": [
  {
   "cell_type": "markdown",
   "metadata": {},
   "source": [
   ]
  },
  {
   "cell_type": "markdown",
   "metadata": {},
   "source": [
    "   #     Autocorrelation Test of Random Numbers by the Z "
   ]
  },
  {
   "cell_type": "code",
   "execution_count": 1,
   "metadata": {},
   "outputs": [
    {
     "name": "stdout",
     "output_type": "stream",
     "text": [
      "Z-statistic=  0.603053454834441\n"
     ]
    }
   ],
   "source": [
    "import random\n",
    "import math\n",
    "import statistics\n",
    "\n",
    "def runsTest(l, l_median):\n",
    "\n",
    "\truns, n1, n2 = 0, 0, 0\n",
    "\n",
    "\n",
    "\tfor i in range(len(l)):\n",
    "\t\tif (l[i] >= l_median and l[i-1] < l_median) or \\\n",
    "\t\t\t\t(l[i] < l_median and l[i-1] >= l_median):\n",
    "\t\t\truns += 1\n",
    "            \n",
    "\t\t# no. of positive values\n",
    "\t\tif(l[i]) >= l_median:\n",
    "\t\t\tn1 += 1\n",
    "\t\t\n",
    "\t\t# no. of negative values\n",
    "\t\telse:\n",
    "\t\t\tn2 += 1\n",
    "\n",
    "\truns_exp = ((2*n1*n2)/(n1+n2))+1\n",
    "\tstan_dev = math.sqrt((2*n1*n2*(2*n1*n2-n1-n2))/ \\\n",
    "\t\t\t\t\t(((n1+n2)**2)*(n1+n2-1)))\n",
    "\n",
    "\tz = (runs-runs_exp)/stan_dev\n",
    "\n",
    "\treturn z\n",
    "\n",
    "# Making a list of 100 random numbers\n",
    "l = []\n",
    "for i in range(100):\n",
    "\tl.append(random.random())\n",
    "\n",
    "l_median= statistics.median(l)\n",
    "\n",
    "Z = abs(runsTest(l, l_median))\n",
    "\n",
    "print('Z-statistic= ', Z)\n"
   ]
  }
 ],
 "metadata": {
  "kernelspec": {
   "display_name": "Python 3",
   "language": "python",
   "name": "python3"
  },
  "language_info": {
   "codemirror_mode": {
    "name": "ipython",
    "version": 3
   },
   "file_extension": ".py",
   "mimetype": "text/x-python",
   "name": "python",
   "nbconvert_exporter": "python",
   "pygments_lexer": "ipython3",
   "version": "3.8.3"
  }
 },
 "nbformat": 4,
 "nbformat_minor": 4
}
